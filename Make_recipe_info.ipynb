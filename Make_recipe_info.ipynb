{
 "cells": [
  {
   "cell_type": "code",
   "execution_count": 1,
   "metadata": {},
   "outputs": [],
   "source": [
    "import re\n",
    "import numpy as np\n",
    "import pandas as pd\n",
    "from matplotlib import pyplot as plt\n",
    "import os.path\n",
    "import pickle\n",
    "import re # imports regular expressions\n",
    "from collections import Counter\n",
    "import collections\n",
    "import operator\n",
    "from fuzzywuzzy import fuzz \n",
    "from fuzzywuzzy import process\n",
    "import inflect"
   ]
  },
  {
   "cell_type": "code",
   "execution_count": 2,
   "metadata": {},
   "outputs": [],
   "source": [
    "def get_saved_recipes(): \n",
    "    '''Gets the saved recipes and returns them'''\n",
    "    if os.path.exists('recipes.pickle'): # checks if the folder already exists\n",
    "        print(\"folder already here: returning contents\")\n",
    "        with open('recipes.pickle','rb') as f:\n",
    "            recipes = pickle.load(f) # load the saved contents \n",
    "            return recipes\n",
    "    else:\n",
    "        print(\"folder not here yet.  Run contents from 'Scraper.ipynb' \"\n",
    "              \"to create the folder\")"
   ]
  },
  {
   "cell_type": "code",
   "execution_count": 3,
   "metadata": {},
   "outputs": [
    {
     "name": "stdout",
     "output_type": "stream",
     "text": [
      "folder already here: returning contents\n"
     ]
    }
   ],
   "source": [
    "recipes = get_saved_recipes()"
   ]
  },
  {
   "cell_type": "code",
   "execution_count": 4,
   "metadata": {},
   "outputs": [],
   "source": [
    "def get_saved_categories():\n",
    "    ''' Gets all the category variables and returns them.'''\n",
    "  \n",
    "    if os.path.exists('categories.pickle'): # checks if the folder already exists\n",
    "        print(\"folder already here: returning contents\")\n",
    "        with open('categories.pickle','rb') as f:\n",
    "            categories = pickle.load(f) # load the saved contents \n",
    "            return categories\n",
    "    # otherwise, scrapes the website, pickles the information, and \n",
    "    # returns the contents\n",
    "    else:\n",
    "        print(\"folder not here yet.  Run contents from 'Scraper.ipynb' \"\n",
    "              \"to create the folder\")"
   ]
  },
  {
   "cell_type": "code",
   "execution_count": 5,
   "metadata": {},
   "outputs": [
    {
     "name": "stdout",
     "output_type": "stream",
     "text": [
      "folder already here: returning contents\n"
     ]
    }
   ],
   "source": [
    "categories = get_saved_categories()\n",
    "c_len = len(categories)"
   ]
  },
  {
   "cell_type": "code",
   "execution_count": 32,
   "metadata": {},
   "outputs": [],
   "source": [
    "def split_category_to_recipes(category):\n",
    "    '''Takes in a string of text from a single category of recipes,\n",
    "       and returns a list of strings containing the recipes contained\n",
    "       in that category'''\n",
    "    r = category\n",
    "    # create the regex that all the recipes follow- not to give a 'clean'\n",
    "    # cut-off, but rather to separate one recipe from the next.\n",
    "    one_recipe_pattern = re.compile(r\"\\* Exported from MasterCook \\*(.+?)Nutr\\. Assoc\\. : (\\d+?)\", re.DOTALL)\n",
    "    batch = one_recipe_pattern.findall(r) # splits up the text to it's portions,\n",
    "                               # but the formatting is as a list of strings\n",
    "                               # in parenthesies\n",
    "    singles = []\n",
    "    for i in range(len(batch)):\n",
    "        singles.append(batch[i][0]) # unpacks the information to make it accessable\n",
    "    return singles    "
   ]
  },
  {
   "cell_type": "code",
   "execution_count": 33,
   "metadata": {},
   "outputs": [],
   "source": [
    "def get_recipe_info(recipe):\n",
    "    '''Takes in a recipe string, and uses regex to parse out:\n",
    "       the Title, ingredients (as a group), and the serving size\n",
    "       \n",
    "    '''\n",
    "    title_pattern = re.compile(r\"([A-Za-z]{1}[^\\r\\n\\t\\f\\v]*)\") # take the first match\n",
    "    ingredients_batch_pattern = re.compile(r\"--------------------------------(.+?)[\\n\\r]{4}\", re.S)\n",
    "    serving_size_pattern = re.compile(r\"Serving Size  :\\s*(\\d*)\")\n",
    "    \n",
    "    title = title_pattern.search(recipe).group(0) # we only need the first match\n",
    "    serving_size = serving_size_pattern.findall(recipe)[0]\n",
    "    ingredients_batch = ingredients_batch_pattern.findall(recipe)[0]\n",
    "        \n",
    "    return title, serving_size, ingredients_batch\n",
    "    "
   ]
  },
  {
   "cell_type": "code",
   "execution_count": 34,
   "metadata": {},
   "outputs": [],
   "source": [
    "def save_recipe_info():\n",
    "    ''' Gets all the recipe_info variables and saves them in a pickle.'''\n",
    "  \n",
    "    if os.path.exists('primary_recipe_info.pickle'): # checks if the folder already exists\n",
    "        print(\"folder already here: returning contents\")\n",
    "        with open('primary_recipe_info.pickle','rb') as f:\n",
    "            recipe_info = pickle.load(f) # load the saved contents \n",
    "            return recipe_info\n",
    "        \n",
    "    else:\n",
    "        print(\"folder not here yet: creating contents\")\n",
    "        # We'll want each category to contain a list of dictionaries\n",
    "        # with the following information:\n",
    "        # name of the recipe:\n",
    "        split_rs = []\n",
    "        for r in recipes:\n",
    "            split_rs.append(split_category_to_recipes(r))\n",
    "        \n",
    "        recipe_info = []\n",
    "        for category in split_rs:\n",
    "            for recipe in category:\n",
    "                # gets the recipe name, serving size, and raw string of ingredient information\n",
    "                recipe_info.append(get_recipe_info(recipe))\n",
    "\n",
    "        with open('primary_recipe_info.pickle','wb') as f:\n",
    "            pickle.dump(recipe_info,f) # save the contents\n",
    "            \n",
    "        return recipe_info   "
   ]
  },
  {
   "cell_type": "code",
   "execution_count": 35,
   "metadata": {},
   "outputs": [
    {
     "name": "stdout",
     "output_type": "stream",
     "text": [
      "folder already here: returning contents\n"
     ]
    }
   ],
   "source": [
    "r_info = save_recipe_info()"
   ]
  },
  {
   "cell_type": "code",
   "execution_count": 38,
   "metadata": {},
   "outputs": [],
   "source": [
    "def create_recipe_df(recipes):\n",
    "    '''create the dictionary of all this information\n",
    "    to turn it into a pandas dataframe.\n",
    "    Note that for now, I leave the ingredients as a list.\n",
    "    Creates the dataframe and returns it.'''\n",
    "\n",
    "    # to create the dictionary, it needs to be of the form\n",
    "    # {'col1':list(),'col2':list(),...}\n",
    "    category_list = []\n",
    "    title_list = []\n",
    "    serving_size_list = []\n",
    "    ingredients_batch_list = []\n",
    "    \n",
    "    split_rs = []\n",
    "       \n",
    "    for r in recipes: \n",
    "        split_rs.append(split_category_to_recipes(r))\n",
    "    \n",
    "    for category,category_name in zip(split_rs,categories):\n",
    "        for recipe in category:\n",
    "            title,serving_size,ingredients_batch = get_recipe_info(recipe)\n",
    "\n",
    "            # append the appropriate elements to create the needed dictionary\n",
    "            category_list.append(category_name)\n",
    "            title_list.append(title)\n",
    "            serving_size_list.append(serving_size)\n",
    "            ingredients_batch_list.append(ingredients_batch)\n",
    "\n",
    "    # create the dataframe from the dictionary\n",
    "    df = pd.DataFrame({'category':category_list,\n",
    "                       'title':title_list,\n",
    "                       'serving size':serving_size_list,\n",
    "                       'ingredients batch':ingredients_batch_list})\n",
    "    \n",
    "    broken_recipes = {21,67,715,803,1109,2150,2347,2776,  ## These are the row numbers of recipes that I found broke some\n",
    "                  3355,3356,3419,3420,4785,4786,4787, ## Code during the cleaning process; upon investigation, I don't\n",
    "                  4788,4792,4800,5086,5089,5092,5162,5228} # want these!  Many are just tips/tricks, and the others are poorly formated.\n",
    "    df = df.drop(broken_recipes)\n",
    "    df = df.reset_index(drop=True)\n",
    "    \n",
    "    return df"
   ]
  },
  {
   "cell_type": "code",
   "execution_count": 45,
   "metadata": {},
   "outputs": [],
   "source": [
    "def save_recipe_df(df,name):\n",
    "    '''\n",
    "    pickles the recipe dataframe.\n",
    "    '''\n",
    "    \n",
    "    print('Pickling dataframe')\n",
    "    with open(name,'wb') as f:\n",
    "            pickle.dump(df,f) # save the contents\n",
    "            \n",
    "    return"
   ]
  },
  {
   "cell_type": "code",
   "execution_count": 46,
   "metadata": {},
   "outputs": [
    {
     "name": "stdout",
     "output_type": "stream",
     "text": [
      "Pickling dataframe\n"
     ]
    }
   ],
   "source": [
    "df = create_recipe_df(recipes)\n",
    "save_recipe_df(df,'recipe_df.pickle')"
   ]
  },
  {
   "cell_type": "code",
   "execution_count": 47,
   "metadata": {},
   "outputs": [],
   "source": [
    "def get_recipe_df(name):\n",
    "    '''\n",
    "    gets the pickled recipe dataframe from the name specified\n",
    "    '''\n",
    "    print('Unpickling dataframe')\n",
    "    \n",
    "    with open(name,'rb') as f:\n",
    "        df = pickle.load(f) # save the contents\n",
    "            \n",
    "    return df"
   ]
  },
  {
   "cell_type": "code",
   "execution_count": null,
   "metadata": {},
   "outputs": [],
   "source": []
  },
  {
   "cell_type": "code",
   "execution_count": null,
   "metadata": {},
   "outputs": [],
   "source": []
  }
 ],
 "metadata": {
  "kernelspec": {
   "display_name": "Python 3",
   "language": "python",
   "name": "python3"
  },
  "language_info": {
   "codemirror_mode": {
    "name": "ipython",
    "version": 3
   },
   "file_extension": ".py",
   "mimetype": "text/x-python",
   "name": "python",
   "nbconvert_exporter": "python",
   "pygments_lexer": "ipython3",
   "version": "3.7.3"
  }
 },
 "nbformat": 4,
 "nbformat_minor": 2
}

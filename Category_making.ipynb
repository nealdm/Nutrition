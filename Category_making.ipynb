{
 "cells": [
  {
   "cell_type": "code",
   "execution_count": 53,
   "metadata": {},
   "outputs": [],
   "source": [
    "import re\n",
    "import numpy as np\n",
    "import pandas as pd\n",
    "from matplotlib import pyplot as plt\n",
    "import os.path\n",
    "import pickle\n",
    "import re # imports regular expressions\n",
    "from collections import Counter\n",
    "import collections\n",
    "import operator\n",
    "from fuzzywuzzy import fuzz \n",
    "from fuzzywuzzy import process\n",
    "import inflect\n",
    "from itertools import compress"
   ]
  },
  {
   "cell_type": "code",
   "execution_count": 2,
   "metadata": {},
   "outputs": [],
   "source": [
    "def get_recipe_df(name):\n",
    "    '''\n",
    "    gets the pickled recipe dataframe from the name specified\n",
    "    '''\n",
    "    print('Unpickling dataframe')\n",
    "    \n",
    "    with open(name,'rb') as f:\n",
    "        df = pickle.load(f) # save the contents\n",
    "            \n",
    "    return df"
   ]
  },
  {
   "cell_type": "code",
   "execution_count": 3,
   "metadata": {},
   "outputs": [
    {
     "name": "stdout",
     "output_type": "stream",
     "text": [
      "Unpickling dataframe\n"
     ]
    }
   ],
   "source": [
    "recipe_df = get_recipe_df('recipe_df.pickle')"
   ]
  },
  {
   "cell_type": "code",
   "execution_count": 5,
   "metadata": {},
   "outputs": [
    {
     "data": {
      "text/html": [
       "<div>\n",
       "<style scoped>\n",
       "    .dataframe tbody tr th:only-of-type {\n",
       "        vertical-align: middle;\n",
       "    }\n",
       "\n",
       "    .dataframe tbody tr th {\n",
       "        vertical-align: top;\n",
       "    }\n",
       "\n",
       "    .dataframe thead th {\n",
       "        text-align: right;\n",
       "    }\n",
       "</style>\n",
       "<table border=\"1\" class=\"dataframe\">\n",
       "  <thead>\n",
       "    <tr style=\"text-align: right;\">\n",
       "      <th></th>\n",
       "      <th>category</th>\n",
       "      <th>title</th>\n",
       "      <th>serving size</th>\n",
       "      <th>ingredients batch</th>\n",
       "    </tr>\n",
       "  </thead>\n",
       "  <tbody>\n",
       "    <tr>\n",
       "      <th>0</th>\n",
       "      <td>Alcoholic Beverages</td>\n",
       "      <td>Almond Liqueur</td>\n",
       "      <td>1</td>\n",
       "      <td>\\r\\n       3           cup  sugar\\r\\n   2 1/4 ...</td>\n",
       "    </tr>\n",
       "    <tr>\n",
       "      <th>1</th>\n",
       "      <td>Alcoholic Beverages</td>\n",
       "      <td>Cafe Mexicano</td>\n",
       "      <td>8</td>\n",
       "      <td>\\r\\n       8          cups  water; cold\\r\\n   ...</td>\n",
       "    </tr>\n",
       "    <tr>\n",
       "      <th>2</th>\n",
       "      <td>Alcoholic Beverages</td>\n",
       "      <td>Coffee Liqueur</td>\n",
       "      <td>1</td>\n",
       "      <td>\\r\\n       3           cup  sugar\\r\\n       3 ...</td>\n",
       "    </tr>\n",
       "    <tr>\n",
       "      <th>3</th>\n",
       "      <td>Alcoholic Beverages</td>\n",
       "      <td>Chartreuse Cocktail</td>\n",
       "      <td>1</td>\n",
       "      <td>\\r\\n   1 1/2        ounces  tequila; 3 T\\r\\n  ...</td>\n",
       "    </tr>\n",
       "    <tr>\n",
       "      <th>4</th>\n",
       "      <td>Alcoholic Beverages</td>\n",
       "      <td>Whiskey Sour</td>\n",
       "      <td>1</td>\n",
       "      <td>\\r\\n       1                lemon; juiced\\r\\n ...</td>\n",
       "    </tr>\n",
       "  </tbody>\n",
       "</table>\n",
       "</div>"
      ],
      "text/plain": [
       "              category                title serving size  \\\n",
       "0  Alcoholic Beverages       Almond Liqueur            1   \n",
       "1  Alcoholic Beverages        Cafe Mexicano            8   \n",
       "2  Alcoholic Beverages       Coffee Liqueur            1   \n",
       "3  Alcoholic Beverages  Chartreuse Cocktail            1   \n",
       "4  Alcoholic Beverages         Whiskey Sour            1   \n",
       "\n",
       "                                   ingredients batch  \n",
       "0  \\r\\n       3           cup  sugar\\r\\n   2 1/4 ...  \n",
       "1  \\r\\n       8          cups  water; cold\\r\\n   ...  \n",
       "2  \\r\\n       3           cup  sugar\\r\\n       3 ...  \n",
       "3  \\r\\n   1 1/2        ounces  tequila; 3 T\\r\\n  ...  \n",
       "4  \\r\\n       1                lemon; juiced\\r\\n ...  "
      ]
     },
     "execution_count": 5,
     "metadata": {},
     "output_type": "execute_result"
    }
   ],
   "source": [
    "recipe_df.head()"
   ]
  },
  {
   "cell_type": "code",
   "execution_count": 6,
   "metadata": {},
   "outputs": [
    {
     "name": "stdout",
     "output_type": "stream",
     "text": [
      "total number of recipes: 5536\n"
     ]
    },
    {
     "data": {
      "text/plain": [
       "0    \\r\\n       3           cup  sugar\\r\\n   2 1/4 ...\n",
       "1    \\r\\n       8          cups  water; cold\\r\\n   ...\n",
       "2    \\r\\n       3           cup  sugar\\r\\n       3 ...\n",
       "3    \\r\\n   1 1/2        ounces  tequila; 3 T\\r\\n  ...\n",
       "4    \\r\\n       1                lemon; juiced\\r\\n ...\n",
       "Name: ingredients batch, dtype: object"
      ]
     },
     "execution_count": 6,
     "metadata": {},
     "output_type": "execute_result"
    }
   ],
   "source": [
    "b = recipe_df['ingredients batch'].copy()\n",
    "print(f\"total number of recipes: {len(b)}\")\n",
    "b.head()"
   ]
  },
  {
   "cell_type": "code",
   "execution_count": 7,
   "metadata": {},
   "outputs": [],
   "source": [
    "def new_get_ingredients(batch,strings_to_skip = None):\n",
    "    '''\n",
    "    Takes in a 'batch' of ingredient information, and separates it\n",
    "    into the quanity, unit, ingredient, and comment portions.\n",
    "    Returns them as a list of tuples.\n",
    "    \n",
    "    Also takes in an arguments strings_to_skip which is a list of strings \n",
    "    that if they occur on the line they will be skipped\n",
    "    '''\n",
    "    lines = batch.splitlines()[1:] # splits the data into lines to break down\n",
    "    \n",
    "    # create the regex patterns to separate the data apart\n",
    "    quantity_pattern = re.compile(r\"(.{8}).*\")\n",
    "    quantity_cleanup_pattern = re.compile(r\"\\s*(.*)\")\n",
    "    unit_pattern = re.compile(r\".{8}(.{14}).*\")\n",
    "    unit_cleanup_pattern = re.compile(r\"\\s*(.*)\")\n",
    "    measure_pattern = re.compile(r\"(\\d+ \\d/\\d|\\d+/\\d+|\\d+)?(?=  ) +?([A-Aa-z]+)?(?=  )\", re.S)\n",
    "    ingredient_info_pattern = re.compile(r\".{24}(.*)\")\n",
    "    info_and_comments_pattern = re.compile(r\".{24}(.*) +?-- +?(.*)\")\n",
    "    # I still need a way to ignore the 'ingredients' that have \n",
    "    # either '----' anywhere (usually is a subtitle)\n",
    "    # also watch out for 'OR' - could be on it's own line,\n",
    "    # or inbetween two optional ingredients.\n",
    "    \n",
    "    chunk = []\n",
    "    for line in lines:\n",
    "        q = quantity_pattern.findall(line)\n",
    "        u = unit_pattern.findall(line)\n",
    "        q_n = quantity_cleanup_pattern.findall(q[0])\n",
    "        if q_n: q_n = q_n[0];\n",
    "        else: q_n = ''\n",
    "        u_n = unit_cleanup_pattern.findall(u[0])\n",
    "        if u_n: u_n = u_n[0];\n",
    "        else: u_n = ''\n",
    "                   \n",
    "        # get the string containing info about the ingredient\n",
    "        if '--' not in line: # this is the case where a comment on this line\n",
    "            i = ingredient_info_pattern.findall(line)\n",
    "            if i: i = i[0];\n",
    "            else: i = '' # see 'numb' bove for explanation\n",
    "            c = ''    \n",
    "        else: # if there is no comment on this line\n",
    "            i_data = info_and_comments_pattern.findall(line)\n",
    "            \n",
    "            i = [text[0] for text in i_data if text[0] !=''];\n",
    "            if i: i = i[0] # see 'numb' bove for explanation\n",
    "            else: i: i = ''\n",
    "                    \n",
    "            c = [text[1] for text in i_data if text[1] !=''];\n",
    "            if c: c = c[0]; # see 'numb' bove for explanation\n",
    "            else: c = ''\n",
    "        \n",
    "        chunk.append([q_n,u_n,i,c,i])\n",
    "    \n",
    "    return chunk"
   ]
  },
  {
   "cell_type": "code",
   "execution_count": 27,
   "metadata": {},
   "outputs": [
    {
     "name": "stdout",
     "output_type": "stream",
     "text": [
      "[['3', 'cup', 'sugar', '', 'sugar'], ['2 1/4', 'cup', 'water', '', 'water'], ['3', '', 'lemons; the rind', 'finely', 'lemons; the rind'], ['', '', 'grated', '', 'grated'], ['1', 'quart', 'vodka', '', 'vodka'], ['3', 'tablespoon', 'almond extract', '', 'almond extract'], ['2', 'tablespoon', 'vanilla extract', '', 'vanilla extract'], ['8', 'cups', 'water; cold', '', 'water; cold'], ['1/3', 'cup', 'dark brown sugar; packed', '', 'dark brown sugar; packed'], ['1/2', 'ounce', 'baking chocolate; fine chop', '', 'baking chocolate; fine chop'], ['2', '', 'cloves; whole', '', 'cloves; whole'], ['1', '', 'cinnamon stick;broken in 1/2', '', 'cinnamon stick;broken in 1/2'], ['1', 'cup', 'coffee; regular grind, dry', '', 'coffee; regular grind, dry'], ['1', 'teaspoon', 'vanilla', '', 'vanilla'], ['1/4', 'cup', 'brandy', '', 'brandy'], ['8', 'tablespoons', 'coffee liqueur', '', 'coffee liqueur'], ['3', 'cup', 'sugar', '', 'sugar'], ['3', 'cup', 'water', '', 'water'], ['3 1/2', 'tablespoon', 'instant coffee granules', '', 'instant coffee granules'], ['1', 'quart', 'vodka', '', 'vodka']]\n"
     ]
    }
   ],
   "source": [
    "all_ing_data = [] # we'll collect all the ingredient data here\n",
    "for i in range(len(b)):\n",
    "    all_ing_data += [group for group in new_get_ingredients(b.iloc[i])]\n",
    "print(all_ing_data[:20])    "
   ]
  },
  {
   "cell_type": "code",
   "execution_count": 28,
   "metadata": {},
   "outputs": [],
   "source": [
    "# replace each string element of the ingredients batch column with a dictionary of the information\n",
    "for i in range(len(recipe_df)):\n",
    "    recipe_df['ingredients batch'][i] = [group for group in new_get_ingredients(b.iloc[i])]"
   ]
  },
  {
   "cell_type": "markdown",
   "metadata": {},
   "source": [
    "In order to better search the ingredients for their nutritional value, we need to put all ingredients in their correct general 'ingredient class' that will be a way of normalizing the ingredients: making them so they are all singular, and taking different variations on spelling or word usage to represent the same ingredient and making it clear which ingredient they represent.\n",
    "\n",
    " I will need to make a dictionary that will map the old ingredient name to the new ingredient name, so at the end of sorting all the ingredients and choosing out the best classes, I can use the dictionary to find the 'new' category name (the simplified/normalized version."
   ]
  },
  {
   "cell_type": "code",
   "execution_count": 30,
   "metadata": {},
   "outputs": [
    {
     "data": {
      "text/plain": [
       "[['sugar', ['sugar']],\n",
       " ['water', ['water']],\n",
       " ['lemons; the rind', ['lemon', 'the', 'rind']],\n",
       " ['grated', ['grated']],\n",
       " ['vodka', ['vodka']],\n",
       " ['almond extract', ['almond', 'extract']],\n",
       " ['vanilla extract', ['vanilla', 'extract']],\n",
       " ['water; cold', ['water', 'cold']],\n",
       " ['dark brown sugar; packed', ['dark', 'brown', 'sugar', 'packed']],\n",
       " ['baking chocolate; fine chop', ['baking', 'chocolate', 'fine', 'chop']]]"
      ]
     },
     "execution_count": 30,
     "metadata": {},
     "output_type": "execute_result"
    }
   ],
   "source": [
    "# normalize all_ingredients by first making everything lowercase\n",
    "all_ingredients = [all_ing_data[i][2].lower() if all_ing_data[i][2] is not None else '__NONE__' for i in range(len(all_ing_data))]\n",
    "\n",
    "# create a reference to map from \"old names\" to the \"normalized/class\" names\n",
    "ingredient_class_dict = list(zip([all_ing_data[i][2] for i in range(len(all_ing_data))],all_ingredients))\n",
    "ingredient_class_dict1 = []\n",
    "stripped_ingredients = []\n",
    "\n",
    "# this will be used to singularize plural words\n",
    "p = inflect.engine()  \n",
    "for ingredient_pair in ingredient_class_dict:\n",
    "    \n",
    "    # for each string, strip the non alphanumeric chars and\n",
    "    # singularize the word if it is plural\n",
    "    alph = re.compile('[\\W_]+')\n",
    "    word_list = []\n",
    "    for w in ingredient_pair[1].split():\n",
    "        \n",
    "        # take away the symbols from each word- replace with a space... (see next comment)\n",
    "        symbol_less = alph.sub(' ', w) \n",
    "        \n",
    "        # so that here when I split again I can have the individual parts\n",
    "        for wordlet in symbol_less.split(): \n",
    "            \n",
    "            # make the word singular if necessary.\n",
    "            if p.singular_noun(wordlet): word_list.append(p.singular_noun(wordlet))\n",
    "            else: word_list.append(wordlet)\n",
    "    \n",
    "    ingredient_class_dict1.append([ingredient_pair[0],word_list])\n",
    "\n",
    "ingredient_class_dict1[:10]"
   ]
  },
  {
   "cell_type": "code",
   "execution_count": 31,
   "metadata": {},
   "outputs": [
    {
     "data": {
      "text/plain": [
       "107182"
      ]
     },
     "execution_count": 31,
     "metadata": {},
     "output_type": "execute_result"
    }
   ],
   "source": [
    "# all words will contain a list of every word used in\n",
    "# the ingredients portions of the recipes\n",
    "all_words = []\n",
    "words = [pairs[1] for pairs in ingredient_class_dict1]\n",
    "for w in words:\n",
    "    all_words.extend(w)\n",
    "    \n",
    "# We create a counter of all words in order to pick out which\n",
    "# ingredients are the most commonly used to make classes for them\n",
    "all_words_counter = Counter(all_words)\n",
    "sorted_all_words = sorted(all_words_counter.items(), key=lambda kv: kv[1],reverse=True)\n",
    "sum(s[1] for s in sorted_all_words) # this is how many words total I'll be going through"
   ]
  },
  {
   "cell_type": "markdown",
   "metadata": {},
   "source": [
    "I used the following code to select which words to use to create my general ingredient class names.  I created a list of roughly 200 ingredients, going through the first 455 ingredients to do so.  The reason I stopped at about 200 was because at that point each ingredient was only being used in 11 recipes, and the process is mandatorily time intensive.  I tried to use FuzzyWuzzy before to do fuzzy searching to create the classes.  I found the results worked well, but had too many flaws to easily manage.  Thus the list I ended up creating I then pickled it, and thus I will only unpickle it here, and display it's contents.\n",
    "\n",
    "raw_to_class = dict()\n",
    "for s in sorted_all_words[450:455]:\n",
    "   print(s[0])\n",
    "   in_y_n = input()\n",
    "   if in_y_n == 'y':\n",
    "       raw_to_class[s[0]] = s[0]"
   ]
  },
  {
   "cell_type": "code",
   "execution_count": 209,
   "metadata": {},
   "outputs": [],
   "source": [
    "with open('hand_sorted_classes.pickle','rb') as f:\n",
    "        raw_to_class = pickle.load(f) # save the contents"
   ]
  },
  {
   "cell_type": "code",
   "execution_count": 266,
   "metadata": {},
   "outputs": [
    {
     "data": {
      "text/plain": [
       "dict_values(['salt', 'sugar', 'pepper', 'butter', 'flour', 'oil', 'water', 'garlic', 'cheese', 'onion', 'cream', 'milk', 'eggs', 'egg', 'sauce', 'tomato', 'juice', 'lemon', 'chicken', 'vanilla', 'margarine', 'olive', 'parsley', 'celery', 'cinnamon', 'bean', 'corn', 'vinegar', 'mushroom', 'orange', 'chocolate', 'clove', 'bread', 'soda', 'wine', 'beef', 'carrot', 'chili', 'soy', 'rice', 'potato', 'almond', 'ginger', 'basil', 'cornstarch', 'oregano', 'apple', 'broth', 'seed', 'parmesan', 'bell', 'mustard', 'cumin', 'yeast', 'nutmeg', 'raisin', 'peanut', 'pecan', 'breast', 'bay', 'thyme', 'honey', 'cheddar', 'paprika', 'pineapple', 'walnut', 'shortening', 'peel', 'sesame', 'syrup', 'mayonnaise', 'cayenne', 'wheat', 'yolk', 'stock', 'lime', 'unbleached', 'shrimp', 'sherry', 'dill', 'chile', 'fat', 'tuna', 'pea', 'bacon', 'cherry', 'zucchini', 'coconut', 'worcestershire', 'chip', 'pie shell', 'heavy', 'yogurt', 'pork', 'scallion', 'whipping', 'buttermilk', 'coffee', 'cilantro', 'spinach', 'banana', 'rind', 'mozzarella', 'granulated', 'cocoa', 'confectioner', 'crust', 'noodle', 'popcorn', 'cucumber', 'jalapeno', 'steak', 'kidney', 'strawberry', 'broccoli', 'nonfat', 'cabbage', 'oat', 'peach', 'bouillon', 'graham', 'evaporated', 'tabasco', 'bisquick', 'gelatin', 'jack', 'cornmeal', 'pasta', 'condensed', 'whipped', 'lettuce', 'sausage', 'spaghetti', 'rosemary', 'cider', 'cottage', 'curry', 'tortilla', 'turkey', 'allspice', 'marshmallow', 'avocado', 'monterey', 'blueberry', 'molass', 'rum', 'beer', 'ham', 'cranberry', 'coriander', 'raspberry', 'eggplant', 'chive', 'shallot', 'ricotta', 'salsa', 'pudding', 'squash', 'fillet', 'apricot', 'tarragon', 'peppercorn', 'mint', 'pimiento', 'date', 'sage', 'plum', 'brandy', 'oyster', 'chestnut', 'rhubarb', 'catsup', 'applesauce', 'clam', 'sourdough', 'tartar', 'liqueur', 'pear', 'leek', 'macaroni', 'artichoke', 'scallop', 'pumpkin', 'pinto', 'veal', 'crab', 'jello', 'swis', 'rye', 'horseradish', 'pimento', 'feta', 'sunflower', 'ketchup', 'crawfish', 'grape', 'jelly', 'prune', 'maraschino', 'pickle', 'lamb', 'cauliflower', 'bamboo', 'mango', 'oatmeal', 'safflower', 'lobster', 'vodka', 'goat', 'grapefruit', 'hamburger', 'turnip', 'peppermint', 'kiwi', 'macadamia', 'tapioca', 'chickpea', 'baking', 'powder', 'white'])"
      ]
     },
     "execution_count": 266,
     "metadata": {},
     "output_type": "execute_result"
    }
   ],
   "source": [
    "raw_to_class.values()"
   ]
  },
  {
   "cell_type": "code",
   "execution_count": 284,
   "metadata": {},
   "outputs": [],
   "source": [
    "# here's how I'm going to create the ingredient classes:\n",
    "# I will first create a copy of the ingredient batches, call it m\n",
    "m = ingredient_class_dict1.copy()\n",
    "\n",
    "# I will also create a dictionary 'n' that will contain the 'translation'\n",
    "# between raw strings and the 'ingredient classes' we will use\n",
    "n = dict()"
   ]
  },
  {
   "cell_type": "code",
   "execution_count": 283,
   "metadata": {},
   "outputs": [],
   "source": [
    "# create a set of which 'groupings' we want to have together\n",
    "rtc = frozenset(list(raw_to_class))\n",
    "combos = [rtc.intersection(frozenset(i[1])) for i in m]\n",
    "combocount = Counter(combos)\n",
    "combosort = sorted(combocount.items(), key=lambda kv: kv[1],reverse=True)\n",
    "# goodsets below contains the top combinations.\n",
    "goodsets = [i[0] for i in combosort[1:260]]\n",
    "goodsets = goodsets+[frozenset(i) for i in rtc]"
   ]
  },
  {
   "cell_type": "code",
   "execution_count": 285,
   "metadata": {},
   "outputs": [],
   "source": [
    "# add each combination element in goodsets as a class name\n",
    "# for a given ingredient description\n",
    "# if all the elements in are in the description, and \n",
    "# that discription does not yet have a class.\n",
    "\n",
    "for num in range(1,3):\n",
    "    mask = [len(g)==num for g in goodsets]\n",
    "    # the clusters will intersect with the same descriptions\n",
    "    # more than once as num increases; this is ok.  We want them\n",
    "    # to overwrite the 'simple' for the more 'complex' categories\n",
    "    clusters = [i for i in list(compress(goodsets,mask))]\n",
    "    for group in clusters:\n",
    "        clustername = '_'.join(group)\n",
    "        for i in m:\n",
    "            if len(set(group).intersection(set(i[1]))) == num:\n",
    "                n[i[0]]=clustername"
   ]
  },
  {
   "cell_type": "code",
   "execution_count": 293,
   "metadata": {},
   "outputs": [],
   "source": [
    "# now go back through and whatever raw ingredient description\n",
    "# is not already in the dictionary n, map it to 'OTHER'\n",
    "for i in m:\n",
    "    if i[0] not in n:\n",
    "        n[i[0]] = 'OTHER'"
   ]
  },
  {
   "cell_type": "code",
   "execution_count": 339,
   "metadata": {},
   "outputs": [],
   "source": [
    "# update the ingredients batch information in dataframe so \n",
    "# the class information is in the data\n",
    "for batch in recipe_df['ingredients batch']:\n",
    "    for ingredients_tuple in batch:\n",
    "        ingredients_tuple[2] = n[ingredients_tuple[4]]"
   ]
  },
  {
   "cell_type": "code",
   "execution_count": 348,
   "metadata": {},
   "outputs": [
    {
     "data": {
      "text/plain": [
       "[['6', 'cups', 'water', 'boiling', 'water'],\n",
       " ['2', '4 ounce boxe', 'onion', '', 'onion soup mix'],\n",
       " ['4', 'ounces', 'spaghetti', 'broken', 'spaghetti'],\n",
       " ['1/3', 'cup', 'margarine', '', 'margarine'],\n",
       " ['2/3', 'cup', 'onion', '', 'chopped onions'],\n",
       " ['1', 'cup', 'bell_pepper', '', 'chopped green bell peppers'],\n",
       " ['1 1/2', 'pounds', 'zucchini', '', 'sliced zucchini'],\n",
       " ['4', '', 'tomato', 'cut in wedges', 'fresh tomatoes'],\n",
       " ['1/4', 'cup', 'parsley', '', 'chopped parsley'],\n",
       " ['1/8', 'teaspoon', 'pepper', '', 'black pepper'],\n",
       " ['4',\n",
       "  'cups',\n",
       "  'mozzarella_cheese',\n",
       "  '',\n",
       "  '(2 packages) grated Mozzarella cheese']]"
      ]
     },
     "execution_count": 348,
     "metadata": {},
     "output_type": "execute_result"
    }
   ],
   "source": [
    "recipe_df['ingredients batch'][len(recipe_df)-1]"
   ]
  },
  {
   "cell_type": "code",
   "execution_count": 351,
   "metadata": {},
   "outputs": [],
   "source": [
    "# to add the appropriate columns to the datafame, create them\n",
    "# all at once, then go through and fill them out as needed.\n",
    "recipe_df['OTHER'] = np.empty((len(recipe_df), 0)).tolist() # create an 'other' column\n",
    "                                              # of empty lists to contain\n",
    "                                              # un-normalized ingredients"
   ]
  },
  {
   "cell_type": "code",
   "execution_count": 354,
   "metadata": {},
   "outputs": [],
   "source": [
    "for ing_headname in set(n.values()):\n",
    "    recipe_df['class_' + str(ing_headname)] = None\n",
    "    recipe_df['unit_' + str(ing_headname)] = None\n",
    "    recipe_df['quant_' + str(ing_headname)] = None\n",
    "    recipe_df['comment_' + str(ing_headname)] = None\n",
    "    recipe_df['ingredient_' + str(ing_headname)] = None"
   ]
  },
  {
   "cell_type": "code",
   "execution_count": 355,
   "metadata": {},
   "outputs": [],
   "source": [
    "# add the ingredient informaiton to the dataframe if it is normalized,\n",
    "# otherwise append the information to the 'other' list\n",
    "for loc,batch in enumerate(recipe_df['ingredients batch']):\n",
    "    for ingredients_tuple in batch:\n",
    "        quant, unit, ing_headname, comment, ingredient = ingredients_tuple\n",
    "        # if the ingredient headname is other, just append the whole tuple\n",
    "        # into the 'other' list for that recipe.\n",
    "        if ing_headname == 'OTHER': \n",
    "            recipe_df['OTHER'].iloc[loc].append(ingredients_tuple)\n",
    "        # otherwise, stick the ingredient information in the following columns\n",
    "        else:\n",
    "            recipe_df['class_' + str(ing_headname)].iloc[loc] = ing_headname\n",
    "            recipe_df['unit_' + str(ing_headname)].iloc[loc] = unit\n",
    "            recipe_df['quant_' + str(ing_headname)].iloc[loc] = quant\n",
    "            recipe_df['comment_' + str(ing_headname)].iloc[loc] = comment\n",
    "            recipe_df['ingredient_' + str(ing_headname)].iloc[loc] = ingredient"
   ]
  },
  {
   "cell_type": "code",
   "execution_count": 362,
   "metadata": {},
   "outputs": [],
   "source": [
    "with open('full_ing_dataframe.pickle','wb') as f:\n",
    "        pickle.dump(recipe_df,f) # save the contents"
   ]
  },
  {
   "cell_type": "code",
   "execution_count": 365,
   "metadata": {},
   "outputs": [
    {
     "data": {
      "image/png": "[encoded data removed]",
      "text/plain": [
       "<Figure size 432x288 with 1 Axes>"
      ]
     },
     "metadata": {
      "needs_background": "light"
     },
     "output_type": "display_data"
    }
   ],
   "source": [
    "plt.spy(recipe_df.notnull())\n",
    "plt.show()"
   ]
  },
  {
   "cell_type": "code",
   "execution_count": 366,
   "metadata": {},
   "outputs": [
    {
     "data": {
      "text/plain": [
       "1305"
      ]
     },
     "execution_count": 366,
     "metadata": {},
     "output_type": "execute_result"
    }
   ],
   "source": [
    "len(recipe_df.iloc[0])"
   ]
  },
  {
   "cell_type": "code",
   "execution_count": null,
   "metadata": {},
   "outputs": [],
   "source": []
  }
 ],
 "metadata": {
  "kernelspec": {
   "display_name": "Python 3",
   "language": "python",
   "name": "python3"
  },
  "language_info": {
   "codemirror_mode": {
    "name": "ipython",
    "version": 3
   },
   "file_extension": ".py",
   "mimetype": "text/x-python",
   "name": "python",
   "nbconvert_exporter": "python",
   "pygments_lexer": "ipython3",
   "version": "3.7.3"
  }
 },
 "nbformat": 4,
 "nbformat_minor": 2
}

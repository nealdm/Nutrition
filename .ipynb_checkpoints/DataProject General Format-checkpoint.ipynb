{
 "cells": [
  {
   "cell_type": "markdown",
   "metadata": {},
   "source": [
    "# Motivation and Overview of Data:\n",
    "\n",
    "## Project Purpose:\n",
    "\n",
    "We want to compare recipies of different types to find trends in their nutritional value.\n",
    "\n",
    "\n",
    "\n",
    "## Questions to Answer:\n",
    "\n",
    "\n",
    "\n",
    "\n",
    "## Background knowledge/resources: \n",
    "Talk about what has been done, and what this will cover that is different.\n",
    "\n",
    "What has been done\n",
    "\n",
    "\n",
    "## Data overview:\n",
    "\n",
    "In order to analyse the recipes, we need to create a table like the following:\n",
    "\n",
    "|Category|Recipe|Serving Size|Salt|Sugar|Ingredient 3|...|\n",
    "|------|------|------|------|------|------|------|\n",
    "|Chowders|Clam Chowder|4|Present...|Not Present...|...|...|\n",
    "\n",
    "Each recipe will have an associated category, serving size, and ingredient columns.  Here "
   ]
  },
  {
   "cell_type": "markdown",
   "metadata": {},
   "source": [
    "# Data Collection and Cleaning:\n",
    "\n",
    "## Collection Procedure:\n",
    "talk about how data is used at each step\n",
    "\n",
    "## Cleaning Procedure:\n",
    "explain reason for dropping columns\n",
    "explain what (g) means if it's in the variable names; explain how we handled missing, badly formatted data.  What did we drop and what did we adjust? change more stuff\n",
    "\n",
    "Changed things hahahah"
   ]
  },
  {
   "cell_type": "markdown",
   "metadata": {},
   "source": [
    "Code Quality and Robustness:"
   ]
  },
  {
   "cell_type": "markdown",
   "metadata": {},
   "source": [
    "Data Visualization and Analysis:"
   ]
  },
  {
   "cell_type": "markdown",
   "metadata": {},
   "source": []
  },
  {
   "cell_type": "markdown",
   "metadata": {},
   "source": [
    "# Hel"
   ]
  }
 ],
 "metadata": {
  "kernelspec": {
   "display_name": "Python 3",
   "language": "python",
   "name": "python3"
  },
  "language_info": {
   "codemirror_mode": {
    "name": "ipython",
    "version": 3
   },
   "file_extension": ".py",
   "mimetype": "text/x-python",
   "name": "python",
   "nbconvert_exporter": "python",
   "pygments_lexer": "ipython3",
   "version": "3.7.3"
  }
 },
 "nbformat": 4,
 "nbformat_minor": 2
}

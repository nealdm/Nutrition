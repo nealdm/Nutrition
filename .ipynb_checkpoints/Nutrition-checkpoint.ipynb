{
 "cells": [
  {
   "cell_type": "markdown",
   "metadata": {},
   "source": [
    "By Neal Munson and Isaac Becker"
   ]
  },
  {
   "cell_type": "markdown",
   "metadata": {},
   "source": [
    "# Motivation and Overview of Data:\n",
    "\n",
    "## Project Purpose:\n",
    "\n",
    "We want to compare recipes of different types by looking for trends in their nutritional value.\n",
    "\n",
    "\n",
    "## Objective Questions:\n",
    "\n",
    "What kind of protein-based meal gives me the most protein per serving?\n",
    "\n",
    "What kind of recipe gives the largest 'healthy fat' to 'unhealthy fat' ratio?\n",
    "\n",
    "Is there a correlation between the protein, mineral, and vitamin contents per serving of a recipe?\n",
    "\n",
    "\n",
    "## Background knowledge and resources: \n",
    "\n",
    "#### What has been done\n",
    "\n",
    "There are already lots of resources easily available online to help you search for recipes.  Many of these allow you to search recipes based on the type of recipe you want (comfort food, quick and easy, Mexican, etc.), and some let you search for recipes based on what ingredients you have in your fridge, allowing the user to say \"I have milk, eggs, raisins, chicken, and rice- What can I make?\"  However, no recipe search databases are readily available that give the nutritional value of the recipes."
   ]
  },
  {
   "cell_type": "markdown",
   "metadata": {},
   "source": [
    "#### How this is different\n",
    "\n",
    "In this project, we are interested in creating a table that will help us sort through recipes based on nutritional value so that in a future project we can work on finding a set of recipes to match specific nutritional needs.  The table will enable us to answer the above questions. \n",
    "\n",
    "#### Resources\n",
    "\n",
    "We will create the table with information about the nutritional values of recipes by starting with two specific resources.  \n",
    "\n",
    "The first resource pulls from recipe text files that used to be offered at the Recipe Library at MasterCook.com.  It is a website that contains a list of links, where each link leads to a text file containing many recipes that all fit in the same 'category' of food.  This is the resource we will be scraping from to collect a reasonable sample of recipes.  \n",
    "\n",
    "The second resource is a website called nutritionvalue.org (NutritionValue) that we will use to search for the nutritional content of the ingredients used in the recipes mentioned above.  NutritionValue allows us to search, for example, \"banana\", which will then return a list of links of all the various brands of bananas that it has in the database.  Each one of these links then leads to a page that contains all the nutritional information (calorie content, protein content, vitamins, minerals, etc.) of that particular banana selection.\n",
    "\n",
    "![](websites.png)\n",
    "\n",
    "\n",
    "We will use these two resources to collect the needed information to create a table that will help us answer our objective questions."
   ]
  },
  {
   "cell_type": "markdown",
   "metadata": {},
   "source": [
    "#### Validity of Resources\n",
    "\n",
    "It is important to note that both of these resources are appropriate for the question at hand.  \n",
    "\n",
    "The first is valid because it contains recipes that were created by various users, and offers a variety of recipes.  Therefore, the sample of recipes is well distributed.  It is also a suitable source because it offers a particularly easy way to download a large number of recipes with consistent formatting.\n",
    "\n",
    "The second resource is valid because it pulls its data from the USDA National Nutrient Database for Standard Reference.  It has a broad range of ingredients available to search and is also very detailed in its nutritional content breakdown, which makes it suitable for this project.\n",
    "\n",
    "\n",
    "## Table Construction Overview:\n",
    "\n",
    "\n",
    "To answer the objective questions, we need to create a table containing the relevant information. We will construct this table after the following format:\n",
    "\n",
    "|Category|Recipe|Serving Size|Salt|Sugar|...|Ingredient n|\n",
    "|------|------|------|------|------|------|------|\n",
    "|Chowders|Clam Chowder|4|...|...|...|...|\n",
    "\n",
    "\n",
    "Each recipe will have an associated category, serving size, and ingredient columns.  Each ingredient column shown here actually represents a 'batch' of many columns that contain: one column for how much of the ingredient is present, and a column for how much of each nutritional property (protein content, vitamin content, Calorie count, etc.) is contained per 100 grams of that ingredient."
   ]
  },
  {
   "cell_type": "markdown",
   "metadata": {},
   "source": [
    "# Data Collection and Cleaning:\n",
    "\n",
    "In order to form the desired table, we first need to collect the recipes and their associated ingredient nutritional information.  The process for this is broken down into two steps: recipe collection and ingredient information collection.\n",
    "\n",
    "## Recipe Collection Procedure:\n",
    "\n",
    "### Link Collection\n",
    "\n",
    "To collect the information for the recipes, we need to first scrape all the links that will lead to the text files of each category.  Each link contains a text file that looks like a list of recipes such as the picture on the left below.  The recipes consist of the title, ingredients, and an explanation portion on how to 'make' the recipe.  The portion of each recipe we will be using is just the quantitative portion, for which an example is given at the right.\n",
    "\n",
    "![](2textimg.png)\n",
    "\n",
    "We need to first thus scrape the website of the appropriate links, and then scrape each link of the list of recipes it contains.  Here is some code that does that:\n",
    "\n",
    "![](split1.png)"
   ]
  },
  {
   "cell_type": "markdown",
   "metadata": {},
   "source": [
    "![](split2.png)"
   ]
  },
  {
   "cell_type": "markdown",
   "metadata": {},
   "source": [
    "### Create Recipe Categories\n",
    "\n",
    "We then use the titles of each scraped link to make a list of the category names.\n",
    "\n",
    "![](find_rcategories_code.png)\n",
    "\n",
    "In all, there are 85 different categories, and they have names such as 'Alcoholic Beverages', 'All Appetizer Recipes', 'All Beverage Recipes', 'All Bread Recipes', 'All Breakfast Recipes', ..., 'Biscuits and Scones', 'Bread Machine Recipes', 'Brownies',... and many more.  "
   ]
  },
  {
   "cell_type": "markdown",
   "metadata": {},
   "source": [
    "### Separate Individual Recipes\n",
    "\n",
    "We then separate each category's single long string of recipes into a list of strings each containing one recipe.  We use Regex to do this in the following manner:\n",
    "\n",
    "![](separate_recipes_code.png)\n",
    "\n",
    "### Get Ingredient Info\n",
    "\n",
    "Now we take each recipe, and use Regex to separate the title, serving size, and 'ingredients batch' (which is a string containing the ingredients, their quantities and units of measurement)\n",
    "\n",
    "![](get_recipe_info_code.png)"
   ]
  },
  {
   "cell_type": "markdown",
   "metadata": {},
   "source": [
    "### Create a First Basic Table\n",
    "\n",
    "Now we want to create a table that uses the data that we are able to successfully scrape.  \n",
    "\n",
    "![](create_recipe_df_code.png)\n",
    "\n",
    "Here's the table that we end up with here:\n",
    "\n",
    "![](basic_table_head.png)\n",
    "\n",
    "### Dropping Missformatted Recipes\n",
    "\n",
    "Note that we drop some of the recipes because they don't fit the correct formatting, and there are few enough of them that they don't pose too much of a loss to the overall effort of creating a table that represents the nutritional values of various recipes.  It was interesting to note however that the category with the most 'erroneous' recipes was that of 'Sourdough bread' - there were multiple instances where people would give 'hints' about how to care for the bread, rather than actually providing a recipe!\n",
    "\n",
    "#### $$ Example\\ of\\ poorly\\ formatted\\ recipe $$ \n",
    "\n",
    "![](bad_recipe.png)"
   ]
  },
  {
   "cell_type": "markdown",
   "metadata": {},
   "source": [
    "### Parsing the Ingredient Information\n",
    "\n",
    "We now need to go through the recipe data and separate it into its constituent parts: separate the ingredient name from the quantity from the unit.  Here is a sample of code used to do that:\n",
    "\n",
    "![](screen3.png)\n",
    "\n"
   ]
  },
  {
   "cell_type": "markdown",
   "metadata": {},
   "source": [
    "![](split4.png)\n",
    "\n",
    "### Normalize ingreadient names\n",
    "\n",
    "Next, we need to have a way of normalizing the ingredient names.  This is because many ingredients are presented slightly differently.  For example, brown sugar, dark brown sugar, lightly-packed brown sugar, and Brn. sugar could all be reasonably categorized into the same ingredient class: \"brown sugar.\"\n",
    "\n",
    "To do this, we first normalized all the ingredients to make them lowercase.  \n",
    "\n",
    "We then created 'class' categories by looking at the most common 200 ingredient types and creating a category for each of them.  We selected the top 200 categories because the 200th most common ingredient is only used in about 12 of the roughly 5,500 recipes we scraped from, and there were over 10,000 ingredients total.  Thus we decided the tail of ingredients that were used very little could be cut off, and the majority of the informational content would still be observed in the table we are creating. \n",
    "\n",
    "We ultimately created a dictionary that mapped the raw ingredient name to the class to which it pertains. (See pertinent Code in the Appendix)\n",
    "\n",
    "For the classes that did not fit into a category, we put their information in an 'OTHER' class, allowing us to cleanly sort through the data."
   ]
  },
  {
   "cell_type": "markdown",
   "metadata": {},
   "source": [
    "### Create a Second Basic Table\n",
    "\n",
    "With the categories created, we can now create the basic layout of our recipe-ingredients table.  The following is the head of this dataframe, with the ingredients separated, but the nutritional information of each ingredient not yet present.\n",
    "\n",
    "![](sorted_dataframe_head.png)"
   ]
  },
  {
   "cell_type": "markdown",
   "metadata": {},
   "source": [
    "## Ingredient Information Collection Procedure:\n",
    "\n",
    "### Link Collection/Error Handling\n",
    "\n",
    "Now that we have the individual ingredients we can start collecting nutritional data. The site that we used is okay with us using their data as long as we are not going to sell it."
   ]
  },
  {
   "cell_type": "markdown",
   "metadata": {},
   "source": [
    "The scaper we built for this task searches each ingredient on nutritionvalue.org and takes the first available 3 links. The reason for this is that the top link might not be what we are looking for but, since they are ordered by relevance, it is highly likely to be on the top three.\n",
    "\n",
    "Example of query with Oats:\n",
    "\n",
    "![](nutrition_value_query.png)"
   ]
  },
  {
   "cell_type": "markdown",
   "metadata": {},
   "source": [
    "These links are collected in a dictionary with the ingredient as its respective value. The code is able to handle common errors like \"no results\", \"less than 3 links\", and \"can't find search bar.\n",
    "\n",
    "![](isaac_code1.png)\n"
   ]
  },
  {
   "cell_type": "markdown",
   "metadata": {},
   "source": [
    "### Nutritional Values\n",
    "\n",
    "Now we are ready to get the nutritional values.\n",
    "\n",
    "Each ingredient link contains tables of nutritional properties and their quantities. Here is an example of the content of the link related to \"Oats\".\n",
    "\n",
    "![](nutrition_values_oats.png)"
   ]
  },
  {
   "cell_type": "markdown",
   "metadata": {},
   "source": [
    "The scaper will go through the dictionary of links and collect the name, serving size, macronutrients (Protein, fat, carbohydrates), micronutrients (vitamins and minerals), and any other fact on the tables available.\n",
    "\n",
    "The code prints out any links that cause an error to help minimize the number of missing ingredients. There were a few links with error but we inspected them and made sure we weren't losing any important information. They turned out to be links that were not related to food but rather other parts of the website that were at times included in our query. \n",
    "\n",
    "In order to not abuse the website's information we also added an argument that skips the search if it has already been pulled.\n",
    "\n",
    "![](split5.png)"
   ]
  },
  {
   "cell_type": "markdown",
   "metadata": {},
   "source": [
    "![](split6.png)"
   ]
  },
  {
   "cell_type": "markdown",
   "metadata": {},
   "source": [
    "### Cleaning Nutritional Data\n",
    "\n",
    "Once we collected the data we analyzed it for errors. There were two columns that had only one value out of all the ingredients - the number \"18\" and \"adjusted Protein\". For this reason, we dropped those columns. \n",
    "\n",
    "The rest of the data was cleaned by making all values floats, converting values to grams (g) and making serving sizes be 1g for all ingredients.\n",
    "\n",
    "Vitamin A and D were a special case because they were measured in International Units (IU) so we converted them to grams\n",
    "\n",
    "Lastly, we engineered columns for all minerals and vitamins for future investigation of trends in nutrition - Whether you can get all the nutrition you need from certain foods or recipes.\n",
    "\n",
    "We create a dataframe with this adjusted information which we then title 'nutrtional_value'.\n",
    "\n",
    "![](isaac_code4.png)\n"
   ]
  },
  {
   "cell_type": "markdown",
   "metadata": {},
   "source": [
    "### Merging the Dataframes\n",
    "\n",
    "Now that both data sets are clean and contain featured columns, we begin the merging process to produce a giant sparse dataframe where the rows are recipes and the columns are ingredient's (ing) nutritional properties for all ingredients. example:  \n",
    "\n",
    "|recipe|ing1_calories|ing1_protein |... | ing1_minerals| ing2_calories|...|\n",
    "|-|-|-|-|-|-|-|\n",
    "\n",
    "### Normalizing quantities\n",
    "\n",
    "In the transition to one dataframe we encountered one of our biggest challenges thus far. We need to sort through the quantities of each ingredient and convert them to grams. Unfortunately, we have not found a comprehensive list of food densities online, and the measurements are not consistent on the recipe website. We have created a temporal solution that converts abstract measurements into the equivalent in grams for the most used ingredient and we map words that mean the same things to a uniform name (ex: tbs, tablesp, TBS -> tablespoon, See appendix for code).\n",
    "\n",
    "Small Example of the unit converter:\n",
    "\n",
    "![](isaac_code5.png)\n"
   ]
  },
  {
   "cell_type": "markdown",
   "metadata": {},
   "source": [
    "We are continually searching for a solution to the conversion problem. Nevertheless, We proceed with the analysis so that when an improvement to this method is found we can get better results. \n",
    "\n",
    "There are multiple steps to build what we are calling \"Hefty_df\". For each recipe, we find the ingredients it requires and look-up the units and quantities. For the quantities, we built a function that takes in strings of the form \"1/2, 5 3/2, None\" and returns its float equivalent or 1 for None (it represents \"whole\"). This ingredient is found in our nutritional_value dataframe by the Levenshtein distance which compares the similarity of words by comparing how many edits are needed to change one word into the other. For example by adding or dropping a letter.  We then multiply the quantity, unit (using our unit converter), and the nutritional value of the ingredient and place them into hefty_df. Lastly, we sum the values of each property and enter it into the \"total_(respective property)\" and repeat the process (*see appendix for code).\n",
    "\n",
    "![](hefty_head.png)\n",
    "\n",
    "The reason we built this sparse dataframe is for the intents and purposes of next semester. We use the columns with the total nutritional values and the nutritional_value dataframe for our analysis."
   ]
  },
  {
   "cell_type": "markdown",
   "metadata": {},
   "source": [
    "# Data Visualization and Analysis"
   ]
  },
  {
   "cell_type": "markdown",
   "metadata": {},
   "source": [
    "### Answering the Questions\n",
    "\n",
    "#### What kind of protein-based meal gives me the most protein per serving?\n",
    "\n",
    "To answer this question we simply compare each category that represents a protein based meal, and compare their protein content.  As can be seen below, seafood based recipies contain a greater ammount of protein per serving than other recipe types.\n",
    "\n",
    "![](protein_graph.png) "
   ]
  },
  {
   "cell_type": "markdown",
   "metadata": {},
   "source": [
    "#### What kind of recipe gives the largest 'healthy fat' to 'unhealthy fat' ratio?\n",
    "\n",
    "There is an important distinction between the different fat values printed on produce. Our body needs good fats (\"Polyunsaturated fatty acids\" and \"Monounsaturated fatty acids\") but not the bad ones (\"Saturated fatty acids\" and \"Trans fats\"). \n",
    "\n",
    "On the left figure below we have the recipes with high good/bad ratio. These are the recipies that would be recommended if someone put the constraint to have more good fats rather than bad. These results look reasonable since they all tend to have leaner meat and/or recipes that are considered \"healthier\".\n",
    "\n",
    "On the figure to the right are the recipes with the lowerst good/bad fat ratio. These are the recipies you might want to abstain from making/eating to stay healthy. Once again we have values that we expect like cake, pasta, and breakfast foods. Asparagus is on there because it is often cooked with butter, cheese, or oils. \n",
    "\n",
    "It is important to note that each bar on these graphs represent the average of many recipes of a certain class each with many ingredients.\n",
    "\n",
    "![](isaac_2graphs.png) \n",
    "\n",
    "We chose to remove the following categories From the graph above:\n",
    "- Alcoholic beverage - Most of the ingredients are not well represented since they are too specific and were put in the \"other\" ingredients pile\n",
    "- Jam - Likely there are low levels of fat which would make the ratio extreme depending on one or two recipes\n",
    "- Dog Biscuits - The reader can know that they are good for their dog \n",
    "\n"
   ]
  },
  {
   "cell_type": "markdown",
   "metadata": {},
   "source": [
    "#### Is there a correlation between the protein, mineral, and vitamin contents per serving of a recipe?\n",
    "\n",
    "The last question we would like to address is whether there is any correlation between protein, vitamins, and minerals in our list of ingredients. If so then we know that choosing one high nutritious ingredient will provide a balance more balance to your diet.\n",
    "\n",
    "The highest correlation is seen below to be between protein and Minerals which makes sense since there is iron in meat, and the lowest is between vitamins and minerals - Probably the reason they are sold seperately as supplements.\n",
    "\n",
    "![](corr_m.png)"
   ]
  },
  {
   "cell_type": "markdown",
   "metadata": {},
   "source": [
    "# Apendix"
   ]
  },
  {
   "cell_type": "markdown",
   "metadata": {},
   "source": [
    "### Code for hefty DataFrame"
   ]
  },
  {
   "cell_type": "code",
   "execution_count": null,
   "metadata": {},
   "outputs": [],
   "source": [
    "# changing units by hand (only first time seen)\n",
    "u = dict()\n",
    "for i,rec in enumerate(neal_df[mask].values):\n",
    "    for j,mes in enumerate(rec):\n",
    "        if mes in u:\n",
    "            pass\n",
    "        else:\n",
    "            print(neal_df[mask].columns[j])\n",
    "            print(mes)\n",
    "            u[mes] = input()\n",
    "            print()"
   ]
  },
  {
   "cell_type": "code",
   "execution_count": null,
   "metadata": {},
   "outputs": [],
   "source": [
    "# Unit Conversion dictionary\n",
    "# g/ units\n",
    "conv['gram'] = 1\n",
    "conv['liter'] = 1000\n",
    "conv[\"gallon\"] = 0.00026417205\n",
    "conv['lbs'] = 453.592\n",
    "conv['milliliter'] = 1\n",
    "conv['oz']= 28.34\n",
    "conv['kilogram'] = 1000\n",
    "conv['tablespoon'] = 14.3\n",
    "conv['teaspoon'] = 4.77\n",
    "conv[\"cup\"] = 201\n",
    "conv[\"ear\"] = 92\n",
    "conv['clove'] = 7\n",
    "conv['pinch'] = 0.36\n",
    "conv['quart'] = 946.353\n",
    "conv['pint'] = 473.176\n",
    "conv['envelope'] = 7.085\n",
    "conv['None'] = 0\n",
    "conv['dash'] = 0.72\n",
    "conv['head'] = 539\n",
    "conv['stick'] = 113\n",
    "conv['package'] = 7.085\n",
    "conv['small'] = 75\n",
    "conv['medium'] = 150\n",
    "conv['large'] = 225\n",
    "conv['stalk'] = 50\n",
    "conv['strip'] = 10\n",
    "conv['square'] = 13\n",
    "conv['square'] = 56.7\n",
    "conv['box'] = 382.59\n",
    "conv['whole'] = 100\n",
    "conv['bag'] = 453.59\n",
    "conv['sprig'] = 30\n",
    "conv['bulb'] = 30\n",
    "conv['slice'] = 5\n",
    "conv['bunch'] = 120\n",
    "conv['part'] = 1\n",
    "conv['cube'] = 57"
   ]
  },
  {
   "cell_type": "code",
   "execution_count": null,
   "metadata": {},
   "outputs": [],
   "source": [
    "# gets mask for ingredients\n",
    "col = list(neal_df.columns) \n",
    "mask_class = np.array([i for i in col if i[:6] == \"class_\"])"
   ]
  },
  {
   "cell_type": "code",
   "execution_count": null,
   "metadata": {},
   "outputs": [],
   "source": [
    "# create the columns for Hefty\n",
    "hefty_columns = [nut_element+\"_\"+category[6:] for category in mask_class for nut_element in df.columns]\n",
    "hefty_columns += [\"Total \"+ nut_element for nut_element in df.columns]"
   ]
  },
  {
   "cell_type": "code",
   "execution_count": null,
   "metadata": {},
   "outputs": [],
   "source": [
    "# Turning strings to floats\n",
    "def st_to_fl(s):\n",
    "    try:\n",
    "        # This implied \"Whole\"\n",
    "        if s is None:\n",
    "            return 1\n",
    "        # other wise make it float\n",
    "        return float(s)\n",
    "    except ValueError:\n",
    "        #if error do this\n",
    "        return float(sum(Fraction(c) for c in s.split()))"
   ]
  },
  {
   "cell_type": "code",
   "execution_count": null,
   "metadata": {},
   "outputs": [],
   "source": [
    "# building hefty\n",
    "hefty_df = pd.DataFrame(columns=hefty_columns)\n",
    "num_recipies = len(list(neal_df.index))\n",
    "\n",
    "# for each recipe\n",
    "for num, recipe in enumerate(neal_df.index):\n",
    "    # get all the entries and get the values that are not None\n",
    "    r = neal_df.iloc[recipe]\n",
    "    r_contents = r[mask_class].values != None # mask\n",
    "    \n",
    "    #get the values where it wasn't none and inicialize the row\n",
    "    ingredients = r[mask_class][r_contents].values\n",
    "    hefty_df.loc[len(hefty_df)] = 0\n",
    "    \n",
    "    #progress bar\n",
    "    if num% 200 == 0:\n",
    "        print(f\"{num/num_recipies}%\")\n",
    "        \n",
    "    # for each ingredient in the recipe\n",
    "    for ing in ingredients:\n",
    "        # change the quantity to float and convert units to grams\n",
    "        quantity = st_to_fl(r['quant_' + ing])\n",
    "        unit_factor = conv[r['unit_' + ing]]\n",
    "        conversion = quantity*unit_factor  \n",
    "        \n",
    "        #find the most similar ingredient in the nutrition dataframe\n",
    "        most_similar_ing = process.extractOne(ing,df.index)[0]\n",
    "        \n",
    "        # match the columns of hefty with the ingredient\n",
    "        col = list(hefty_df.columns) \n",
    "        hefty_mask = np.array([i for i in col if i[-(len(ing)+1):] == \"_\"+ing])\n",
    "        \n",
    "        # for each column with the ingredient mutiply nutrition value by conversion\n",
    "        # and add to total column\n",
    "        for m,i,c in zip(hefty_mask, df.loc[most_similar_ing].values,df.columns):\n",
    "            value = i*conversion\n",
    "            hefty_df.loc[num][m] = value\n",
    "            hefty_df.loc[num][\"Total \" + c] += value\n"
   ]
  }
 ],
 "metadata": {
  "kernelspec": {
   "display_name": "Python 3",
   "language": "python",
   "name": "python3"
  },
  "language_info": {
   "codemirror_mode": {
    "name": "ipython",
    "version": 3
   },
   "file_extension": ".py",
   "mimetype": "text/x-python",
   "name": "python",
   "nbconvert_exporter": "python",
   "pygments_lexer": "ipython3",
   "version": "3.7.3"
  }
 },
 "nbformat": 4,
 "nbformat_minor": 2
}
